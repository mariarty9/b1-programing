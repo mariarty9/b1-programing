{
 "cells": [
  {
   "cell_type": "code",
   "execution_count": 8,
   "id": "1d78583a-918a-4bf8-9b3e-526c8974ce71",
   "metadata": {},
   "outputs": [
    {
     "name": "stdout",
     "output_type": "stream",
     "text": [
      "You are eligible to vote!\n",
      "This will run regardless.\n"
     ]
    }
   ],
   "source": [
    "# Use of if/elif/else statements\n",
    "age = 20\n",
    "if age >= 20:\n",
    "    print (\"You are eligible to vote!\")\n",
    "\n",
    "print (\"This will run regardless.\")"
   ]
  },
  {
   "cell_type": "code",
   "execution_count": 9,
   "id": "67736650-f80d-49f7-8eb5-0c4874af3bd2",
   "metadata": {},
   "outputs": [
    {
     "name": "stdout",
     "output_type": "stream",
     "text": [
      "Welcome, guest. You have limited access.\n"
     ]
    }
   ],
   "source": [
    " # else\n",
    "\n",
    "user_role = \"guest\"\n",
    "\n",
    "if user_role == \"admin\":\n",
    "    print(\"Welcome, Administrator. You have full access.\")\n",
    "else:\n",
    "    print (\"Welcome, guest. You have limited access.\")"
   ]
  },
  {
   "cell_type": "code",
   "execution_count": null,
   "id": "a0ed37e4-c42d-4d98-b266-eb68a5e5180a",
   "metadata": {},
   "outputs": [],
   "source": [
    "# if condition1:\n",
    "    # code block 1\n",
    "\n",
    "# elif condition 2:\n",
    "    #code block 2\n",
    "\n",
    "# else condition 3:\n",
    "    #code block 3"
   ]
  },
  {
   "cell_type": "markdown",
   "id": "09d2abec-01a6-43c3-a8ee-4e90ab74eff7",
   "metadata": {},
   "source": [
    "###Comparison Operators\n",
    "# Equal to ==\n",
    "# Not equal !=\n",
    "# Greater/ Lesser > < \n",
    "\n",
    "###Logical operators\n",
    "# and / or / not "
   ]
  },
  {
   "cell_type": "code",
   "execution_count": 13,
   "id": "6ff353da-4078-4aba-9453-a31c8c4f5ec8",
   "metadata": {},
   "outputs": [
    {
     "name": "stdout",
     "output_type": "stream",
     "text": [
      "true\n"
     ]
    }
   ],
   "source": [
    "# Boolean Truthiness\n",
    "name = \"name\" # or \"\" which leads to false\n",
    "if name:\n",
    "    print(\"true\")\n",
    "else:\n",
    "    print(\"false\")"
   ]
  },
  {
   "cell_type": "code",
   "execution_count": null,
   "id": "3407bcf6-5cd8-4d10-ad3d-3a25875529e8",
   "metadata": {},
   "outputs": [],
   "source": [
    "# While loop\n",
    "while condition:\n",
    "    # code block to execute\n",
    "    # as long as condirion is true\n",
    "break # to exit the loop"
   ]
  },
  {
   "cell_type": "code",
   "execution_count": 15,
   "id": "5a6809db-dade-4039-815d-7fc78befa95a",
   "metadata": {},
   "outputs": [
    {
     "name": "stdout",
     "output_type": "stream",
     "text": [
      "0\n",
      "1\n",
      "2\n",
      "3\n",
      "4\n"
     ]
    }
   ],
   "source": [
    "# For loop\n",
    "\n",
    "for i in range(5):\n",
    "    print(i)"
   ]
  },
  {
   "cell_type": "code",
   "execution_count": 19,
   "id": "5a35b528-f5cd-4dd3-852b-2d7d66105bb1",
   "metadata": {},
   "outputs": [],
   "source": [
    "# break statement\n",
    "\n",
    "numbers = [1,3,5,7,9]\n",
    "target = 5\n",
    "for number in numbers:\n",
    "    if number == target:\n",
    "        break # exit loop when target found"
   ]
  },
  {
   "cell_type": "code",
   "execution_count": 28,
   "id": "a96527e1-9adf-4c3f-b39c-bcce53d3afbc",
   "metadata": {},
   "outputs": [
    {
     "name": "stdout",
     "output_type": "stream",
     "text": [
      "0\n",
      "1\n",
      "2\n"
     ]
    }
   ],
   "source": [
    "for i in range(5):\n",
    "    if i == 3:\n",
    "        break\n",
    "    print(i)"
   ]
  },
  {
   "cell_type": "code",
   "execution_count": 24,
   "id": "7ed3665f-1190-48fb-920c-b1d767d5f893",
   "metadata": {},
   "outputs": [],
   "source": [
    "# Continue statement\n",
    "\n",
    "numbers = [1,2,3,4,5,6]\n",
    "for number in numbers: \n",
    "    if number %2 !=0:\n",
    "        continue # skip odd numbers"
   ]
  },
  {
   "cell_type": "code",
   "execution_count": 20,
   "id": "693dfad1-9004-4742-9da7-3a6d40b4d0da",
   "metadata": {},
   "outputs": [
    {
     "name": "stdout",
     "output_type": "stream",
     "text": [
      "1 2 3 4 5 7 8 9 10 "
     ]
    }
   ],
   "source": [
    "for i in range(1, 11):\n",
    "    if i == 6:\n",
    "        continue\n",
    "    print(i, end=\" \")"
   ]
  }
 ],
 "metadata": {
  "kernelspec": {
   "display_name": "Python 3 (ipykernel)",
   "language": "python",
   "name": "python3"
  },
  "language_info": {
   "codemirror_mode": {
    "name": "ipython",
    "version": 3
   },
   "file_extension": ".py",
   "mimetype": "text/x-python",
   "name": "python",
   "nbconvert_exporter": "python",
   "pygments_lexer": "ipython3",
   "version": "3.14.0"
  }
 },
 "nbformat": 4,
 "nbformat_minor": 5
}
