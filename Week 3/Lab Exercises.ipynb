{
 "cells": [
  {
   "cell_type": "code",
   "execution_count": 50,
   "id": "c1f78216-4b48-49c0-a45e-9dbe23e76ad7",
   "metadata": {},
   "outputs": [
    {
     "name": "stdin",
     "output_type": "stream",
     "text": [
      "Enter your score. Note that it should be 0-100 76\n"
     ]
    },
    {
     "name": "stdout",
     "output_type": "stream",
     "text": [
      "Your grade is: C \n"
     ]
    }
   ],
   "source": [
    "# Grade calculator\n",
    "score = int(input(\"Enter your score. Note that it should be 0-100\"))\n",
    "if score >= 90:\n",
    "    grade = \"A\"\n",
    "elif score > 80:\n",
    "    grade = \"B\"\n",
    "elif score > 70:\n",
    "    grade = \"C\"\n",
    "elif score > 60:\n",
    "    grade = \"D\"\n",
    "else: \n",
    "    grade = \"F\"\n",
    "print(f\"Your grade is: {grade} \")\n"
   ]
  },
  {
   "cell_type": "code",
   "execution_count": 53,
   "id": "a0e067b6-8ae0-4efb-8a08-abbe6aa294be",
   "metadata": {},
   "outputs": [
    {
     "name": "stdin",
     "output_type": "stream",
     "text": [
      "Enter your username:  admin\n",
      "Enter your password:  sgjrng\n"
     ]
    },
    {
     "name": "stdout",
     "output_type": "stream",
     "text": [
      "Incorrect password. Please try again.\n"
     ]
    },
    {
     "name": "stdin",
     "output_type": "stream",
     "text": [
      "Enter your password:  aracne\n"
     ]
    },
    {
     "name": "stdout",
     "output_type": "stream",
     "text": [
      "Incorrect password. Please try again.\n"
     ]
    },
    {
     "name": "stdin",
     "output_type": "stream",
     "text": [
      "Enter your password:  arcane\n"
     ]
    },
    {
     "name": "stdout",
     "output_type": "stream",
     "text": [
      "You're logged in. Welcome!\n"
     ]
    }
   ],
   "source": [
    "# Limited Login Attempts\n",
    "user_name = input(\"Enter your username: \")\n",
    "password = \"arcane\"\n",
    "max_attempts = 3\n",
    "attempts = 0 \n",
    "valid_login = False\n",
    "\n",
    "while attempts < max_attempts:\n",
    "    att_password = input(\"Enter your password: \")\n",
    "    \n",
    "    if att_password == password and user_name == \"admin\":\n",
    "        valid_login = True\n",
    "        print(\"You're logged in. Welcome!\")\n",
    "        break\n",
    "    else:\n",
    "        print(\"Incorrect password. Please try again.\")\n",
    "        attempts += 1\n",
    "    \n",
    "if not valid_login:\n",
    "    print(\"You've entered wrong password too many times. Your account is suspended.\")"
   ]
  },
  {
   "cell_type": "code",
   "execution_count": 47,
   "id": "83f55af8-09b9-4cd5-a7ea-2b4a0fc375cd",
   "metadata": {},
   "outputs": [
    {
     "name": "stdout",
     "output_type": "stream",
     "text": [
      "0\n",
      "2\n",
      "4\n",
      "6\n",
      "8\n",
      "10\n"
     ]
    }
   ],
   "source": [
    "# Filtering even numbers including 0\n",
    "\n",
    "numbers = range (0,11)\n",
    "\n",
    "for target in numbers:\n",
    "    if target %2 !=0:\n",
    "        continue\n",
    "    print(target)"
   ]
  },
  {
   "cell_type": "code",
   "execution_count": 48,
   "id": "b95c9680-6ed8-4250-8104-0255d41dcad1",
   "metadata": {},
   "outputs": [
    {
     "name": "stdout",
     "output_type": "stream",
     "text": [
      "2\n",
      "4\n",
      "6\n",
      "8\n",
      "10\n"
     ]
    }
   ],
   "source": [
    "# Filtering even number without 0\n",
    "\n",
    "numbers = range (1,11)\n",
    "\n",
    "for target in numbers:\n",
    "    if target %2 !=0:\n",
    "        continue\n",
    "    print (target)"
   ]
  }
 ],
 "metadata": {
  "kernelspec": {
   "display_name": "Python 3 (ipykernel)",
   "language": "python",
   "name": "python3"
  },
  "language_info": {
   "codemirror_mode": {
    "name": "ipython",
    "version": 3
   },
   "file_extension": ".py",
   "mimetype": "text/x-python",
   "name": "python",
   "nbconvert_exporter": "python",
   "pygments_lexer": "ipython3",
   "version": "3.14.0"
  }
 },
 "nbformat": 4,
 "nbformat_minor": 5
}
