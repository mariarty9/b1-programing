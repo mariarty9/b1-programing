{
 "cells": [
  {
   "cell_type": "code",
   "execution_count": 3,
   "id": "ad97dc1c-84db-407e-b65c-781ed37a1a8d",
   "metadata": {},
   "outputs": [
    {
     "name": "stdout",
     "output_type": "stream",
     "text": [
      "Hello, World!\n"
     ]
    }
   ],
   "source": [
    "print (\"Hello, World!\")"
   ]
  },
  {
   "cell_type": "code",
   "execution_count": null,
   "id": "77d859b1-c858-4f27-be02-0f703bff2c7b",
   "metadata": {},
   "outputs": [],
   "source": [
    "age = 20\n",
    "name = \"Andrea\"\n",
    "abinote = 1.7\n",
    "is_student = true"
   ]
  },
  {
   "cell_type": "code",
   "execution_count": 11,
   "id": "75dfa0bf-9af2-477e-b472-feef3f0290e8",
   "metadata": {},
   "outputs": [
    {
     "name": "stdout",
     "output_type": "stream",
     "text": [
      "40\n"
     ]
    }
   ],
   "source": [
    "a = 29\n",
    "b = 11\n",
    "addition = a + b\n",
    "print(addition)"
   ]
  },
  {
   "cell_type": "code",
   "execution_count": 13,
   "id": "e32337f4-25c2-42cf-b3e9-900ea5d61ce4",
   "metadata": {},
   "outputs": [
    {
     "name": "stdout",
     "output_type": "stream",
     "text": [
      "18\n"
     ]
    }
   ],
   "source": [
    "substraction = a-b\n",
    "print(substraction)"
   ]
  },
  {
   "cell_type": "code",
   "execution_count": 14,
   "id": "1b048935-3bf8-4220-b5cc-bdcdd57a3378",
   "metadata": {},
   "outputs": [
    {
     "name": "stdout",
     "output_type": "stream",
     "text": [
      "18000\n"
     ]
    }
   ],
   "source": [
    "revenue = 50000\n",
    "expenses = 32000\n",
    "profit = revenue - expenses\n",
    "print(profit)"
   ]
  },
  {
   "cell_type": "code",
   "execution_count": null,
   "id": "d3218e02-07f6-4254-91fe-2bde088e03e2",
   "metadata": {},
   "outputs": [],
   "source": []
  }
 ],
 "metadata": {
  "kernelspec": {
   "display_name": "Python 3 (ipykernel)",
   "language": "python",
   "name": "python3"
  },
  "language_info": {
   "codemirror_mode": {
    "name": "ipython",
    "version": 3
   },
   "file_extension": ".py",
   "mimetype": "text/x-python",
   "name": "python",
   "nbconvert_exporter": "python",
   "pygments_lexer": "ipython3",
   "version": "3.14.0"
  }
 },
 "nbformat": 4,
 "nbformat_minor": 5
}
