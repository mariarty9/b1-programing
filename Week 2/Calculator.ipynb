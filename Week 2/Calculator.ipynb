{
 "cells": [
  {
   "cell_type": "code",
   "execution_count": null,
   "id": "3c48c78f-29ca-4f00-9ee6-3398d9927d73",
   "metadata": {},
   "outputs": [],
   "source": [
    "# Business calculators"
   ]
  },
  {
   "cell_type": "code",
   "execution_count": 12,
   "id": "cea1922c-512e-4385-8674-93237040e25d",
   "metadata": {},
   "outputs": [
    {
     "name": "stdin",
     "output_type": "stream",
     "text": [
      "Enter your revenue:  743482.34\n",
      "Enter your costs:  35536.43\n"
     ]
    },
    {
     "name": "stdout",
     "output_type": "stream",
     "text": [
      "\n",
      " Your financial summary\n",
      "Revenue: 743,482.34$\n",
      "Costs: 35,536.43$\n",
      "Profit: 707,945.91$\n",
      "Profit Margin: 95.2%\n"
     ]
    }
   ],
   "source": [
    "# Business profit calculator\n",
    "\n",
    "revenue = float(input(\"Enter your revenue: \"))   #User's revenue\n",
    "costs = float(input(\"Enter your costs: \"))   #User's costs\n",
    "\n",
    "# Calculate profit and margin\n",
    "profit = revenue - costs\n",
    "margin = (profit/revenue) * 100\n",
    "\n",
    "#Show results\n",
    "print (\"\\n Your financial summary\") \n",
    "\n",
    "# f-string allows you to insert variable directly into the string with {}\n",
    "print (f\"Revenue: {revenue:,.2f}$\") #, - adds commas, .2f floating-point number with 2 decimal places\n",
    "print (f\"Costs: {costs:,.2f}$\")\n",
    "print (f\"Profit: {profit:,.2f}$\")\n",
    "print (f\"Profit Margin: {margin:.1f}%\")"
   ]
  },
  {
   "cell_type": "code",
   "execution_count": 42,
   "id": "153a2047-1203-45ae-be7b-9c3938d9140b",
   "metadata": {},
   "outputs": [
    {
     "name": "stdout",
     "output_type": "stream",
     "text": [
      "Salary for the first employee: 250$ \n",
      "\u001b[31m!!! The calculation contains failure. Please check your input.\n",
      "Salary for the second employee: -40$ \n"
     ]
    }
   ],
   "source": [
    "#Salary calculator\n",
    "\n",
    "#Create function that calculates an employee's salary, including the possible bonus\n",
    "from colorama import Fore, Back, Style    #Import for colorful text\n",
    "def calculate_salary (hours_worked, hourly_rate, bonus = 0):\n",
    "    if hours_worked < 0 or hourly_rate < 0 or bonus < 0:\n",
    "        print (Fore.RED + \"!!! The calculation contains failure. Please check your input.\")\n",
    "    salary = (hours_worked * hourly_rate) + bonus\n",
    "    return (salary)\n",
    "\n",
    "print (f\"Salary for the first employee: {calculate_salary(15, 15, 25)}$ \")\n",
    "print (f\"Salary for the second employee: {calculate_salary(-2, 20)}$ \")"
   ]
  },
  {
   "cell_type": "code",
   "execution_count": null,
   "id": "63ce733f-1eed-4ab4-b506-109f94a8fa73",
   "metadata": {},
   "outputs": [],
   "source": []
  }
 ],
 "metadata": {
  "kernelspec": {
   "display_name": "Python 3 (ipykernel)",
   "language": "python",
   "name": "python3"
  },
  "language_info": {
   "codemirror_mode": {
    "name": "ipython",
    "version": 3
   },
   "file_extension": ".py",
   "mimetype": "text/x-python",
   "name": "python",
   "nbconvert_exporter": "python",
   "pygments_lexer": "ipython3",
   "version": "3.14.0"
  }
 },
 "nbformat": 4,
 "nbformat_minor": 5
}
