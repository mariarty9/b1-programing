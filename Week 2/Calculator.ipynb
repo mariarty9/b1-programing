{
 "cells": [
  {
   "cell_type": "code",
   "execution_count": null,
   "id": "3c48c78f-29ca-4f00-9ee6-3398d9927d73",
   "metadata": {},
   "outputs": [],
   "source": [
    "\"\"\"Business Profit Calculator, which calculates profit and margin percentage from revenue and cost data\"\"\""
   ]
  },
  {
   "cell_type": "code",
   "execution_count": 10,
   "id": "b94f8789-5a8e-4388-b70c-f18bba0ca68e",
   "metadata": {
    "scrolled": true
   },
   "outputs": [
    {
     "name": "stdin",
     "output_type": "stream",
     "text": [
      "Enter total revenue: $ 457385.54\n",
      "Enter total costs: $ 46735.43\n"
     ]
    },
    {
     "name": "stdout",
     "output_type": "stream",
     "text": [
      "\n",
      "   Financial Summary    \n",
      "Revenue: $457,385.54\n",
      "Costs: $46,735.43\n",
      "Profit: $410,650.11\n",
      "Profit Margin: 89.8%\n"
     ]
    }
   ],
   "source": [
    "# Get revenue\n",
    "revenue = float(input(\"Enter total revenue: $\"))\n",
    "\n",
    "# Get costs\n",
    "costs = float(input(\"Enter total costs: $\"))\n",
    "\n",
    "# Calculate profit\n",
    "profit = revenue - costs\n",
    "\n",
    "# Calculate profit margin percentage\n",
    "margin = (profit / revenue) * 100\n",
    "\n",
    "# Display results\n",
    "print(\"\\n   Financial Summary    \")\n",
    "print(f\"Revenue: ${revenue:,.2f}\")\n",
    "print(f\"Costs: ${costs:,.2f}\")\n",
    "print(f\"Profit: ${profit:,.2f}\")\n",
    "print(f\"Profit Margin: {margin:.1f}%\")\n"
   ]
  }
 ],
 "metadata": {
  "kernelspec": {
   "display_name": "Python 3 (ipykernel)",
   "language": "python",
   "name": "python3"
  },
  "language_info": {
   "codemirror_mode": {
    "name": "ipython",
    "version": 3
   },
   "file_extension": ".py",
   "mimetype": "text/x-python",
   "name": "python",
   "nbconvert_exporter": "python",
   "pygments_lexer": "ipython3",
   "version": "3.14.0"
  }
 },
 "nbformat": 4,
 "nbformat_minor": 5
}
